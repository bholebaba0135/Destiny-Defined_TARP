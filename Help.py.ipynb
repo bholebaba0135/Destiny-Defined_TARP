{
 "cells": [
  {
   "cell_type": "code",
   "execution_count": 2,
   "id": "236983fb",
   "metadata": {},
   "outputs": [
    {
     "data": {
      "text/html": [
       "        <script type=\"text/javascript\">\n",
       "        window.PlotlyConfig = {MathJaxConfig: 'local'};\n",
       "        if (window.MathJax && window.MathJax.Hub && window.MathJax.Hub.Config) {window.MathJax.Hub.Config({SVG: {font: \"STIX-Web\"}});}\n",
       "        if (typeof require !== 'undefined') {\n",
       "        require.undef(\"plotly\");\n",
       "        requirejs.config({\n",
       "            paths: {\n",
       "                'plotly': ['https://cdn.plot.ly/plotly-2.14.0.min']\n",
       "            }\n",
       "        });\n",
       "        require(['plotly'], function(Plotly) {\n",
       "            window._Plotly = Plotly;\n",
       "        });\n",
       "        }\n",
       "        </script>\n",
       "        "
      ]
     },
     "metadata": {},
     "output_type": "display_data"
    }
   ],
   "source": [
    "import networkx as nx\n",
    "import pickle\n",
    "import chart_studio.plotly as py\n",
    "import random\n",
    "from plotly.graph_objs import *\n",
    "from plotly.offline import init_notebook_mode, plot, iplot\n",
    "init_notebook_mode(connected=True)"
   ]
  },
  {
   "cell_type": "code",
   "execution_count": 3,
   "id": "ab79aae4",
   "metadata": {},
   "outputs": [],
   "source": [
    "class Map:\n",
    "    def __init__(self, G):\n",
    "        self._graph = G\n",
    "        self.intersections = nx.get_node_attributes(G, \"pos\")\n",
    "        self.roads = [list(G[node]) for node in G.nodes()]\n",
    "\n",
    "    def save(self, filename):\n",
    "        with open(filename, 'wb') as f:\n",
    "            pickle.dump(self._graph, f)"
   ]
  },
  {
   "cell_type": "code",
   "execution_count": 13,
   "id": "2d2c91da",
   "metadata": {},
   "outputs": [],
   "source": [
    "def load_map(name):\n",
    "    with open(name, 'rb') as f:\n",
    "        G = pickle.load(f)\n",
    "    return Map(G)"
   ]
  },
  {
   "cell_type": "code",
   "execution_count": 15,
   "id": "d303caa8",
   "metadata": {},
   "outputs": [],
   "source": [
    "def show_map(M, start=None, goal=None, path=None):\n",
    "    G = M._graph\n",
    "    pos = nx.get_node_attributes(G, 'pos')\n",
    "    edge_trace = Scatter(\n",
    "    x=[],\n",
    "    y=[],\n",
    "    line=Line(width=0.5,color='#888'),\n",
    "    hoverinfo='none',\n",
    "    mode='lines')\n",
    "    for edge in G.edges():\n",
    "        x0, y0 = G.node[edge[0]]['pos']\n",
    "        x1, y1 = G.node[edge[1]]['pos']\n",
    "        edge_trace['x'] += [x0, x1, None]\n",
    "        edge_trace['y'] += [y0, y1, None]\n",
    "    node_trace = Scatter(\n",
    "        x=[],\n",
    "        y=[],\n",
    "        text=[],\n",
    "        mode='markers',\n",
    "        hoverinfo='text',\n",
    "        marker=Marker(\n",
    "            showscale=False,\n",
    "            # colorscale options\n",
    "            # 'Greys' | 'Greens' | 'Bluered' | 'Hot' | 'Picnic' | 'Portland' |\n",
    "            # Jet' | 'RdBu' | 'Blackbody' | 'Earth' | 'Electric' | 'YIOrRd' | 'YIGnBu'\n",
    "            colorscale='Hot',\n",
    "            reversescale=True,\n",
    "            color=[],\n",
    "            size=10,\n",
    "            colorbar=dict(\n",
    "                thickness=15,\n",
    "                title='Node Connections',\n",
    "                xanchor='left',\n",
    "                titleside='right'\n",
    "            ),\n",
    "            line=dict(width=2)))\n",
    "    for node in G.nodes():\n",
    "        x, y = G.node[node]['pos']\n",
    "        node_trace['x'].append(x)\n",
    "        node_trace['y'].append(y)\n",
    "\n",
    "    for node, adjacencies in enumerate(G.adjacency_list()):\n",
    "        color = 0\n",
    "        if path and node in path:\n",
    "            color = 2\n",
    "        if node == start:\n",
    "            color = 3\n",
    "        elif node == goal:\n",
    "            color = 1\n",
    "        # node_trace['marker']['color'].append(len(adjacencies))\n",
    "        node_trace['marker']['color'].append(color)\n",
    "        node_info = \"Intersection \" + str(node)\n",
    "        node_trace['text'].append(node_info)\n",
    "\n",
    "    fig = Figure(data=Data([edge_trace, node_trace]),\n",
    "                 layout=Layout(\n",
    "                    title='<br>Network graph made with Python',\n",
    "                    titlefont=dict(size=16),\n",
    "                    showlegend=False,\n",
    "                    hovermode='closest',\n",
    "                    margin=dict(b=20,l=5,r=5,t=40),\n",
    "                   \n",
    "                    xaxis=XAxis(showgrid=False, zeroline=False, showticklabels=False),\n",
    "                    yaxis=YAxis(showgrid=False, zeroline=False, showticklabels=False)))\n",
    "\n",
    "    iplot(fig)\n",
    "    "
   ]
  },
  {
   "cell_type": "code",
   "execution_count": null,
   "id": "d16e2f31",
   "metadata": {},
   "outputs": [],
   "source": []
  }
 ],
 "metadata": {
  "kernelspec": {
   "display_name": "Python 3",
   "language": "python",
   "name": "python3"
  },
  "language_info": {
   "codemirror_mode": {
    "name": "ipython",
    "version": 3
   },
   "file_extension": ".py",
   "mimetype": "text/x-python",
   "name": "python",
   "nbconvert_exporter": "python",
   "pygments_lexer": "ipython3",
   "version": "3.8.8"
  }
 },
 "nbformat": 4,
 "nbformat_minor": 5
}
